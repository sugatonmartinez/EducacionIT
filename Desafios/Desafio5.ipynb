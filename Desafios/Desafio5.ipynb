{
 "cells": [
  {
   "cell_type": "markdown",
   "id": "0c04d3e1-267b-4a6c-a396-78bf1f86808c",
   "metadata": {},
   "source": [
    "# Ejercicio1\n",
    "### (Usar GroupBy)"
   ]
  },
  {
   "cell_type": "markdown",
   "id": "931bba6d-26dd-44b5-b535-44693da6762a",
   "metadata": {},
   "source": [
    "### 1: Devolver la edad promedio de los que sobrevivieron y los que no "
   ]
  },
  {
   "cell_type": "code",
   "execution_count": 3,
   "id": "c6547691-c6b3-4a3a-a74b-8fb379b453f8",
   "metadata": {},
   "outputs": [
    {
     "data": {
      "text/html": [
       "<div>\n",
       "<style scoped>\n",
       "    .dataframe tbody tr th:only-of-type {\n",
       "        vertical-align: middle;\n",
       "    }\n",
       "\n",
       "    .dataframe tbody tr th {\n",
       "        vertical-align: top;\n",
       "    }\n",
       "\n",
       "    .dataframe thead th {\n",
       "        text-align: right;\n",
       "    }\n",
       "</style>\n",
       "<table border=\"1\" class=\"dataframe\">\n",
       "  <thead>\n",
       "    <tr style=\"text-align: right;\">\n",
       "      <th></th>\n",
       "      <th>PassengerId</th>\n",
       "      <th>Survived</th>\n",
       "      <th>Pclass</th>\n",
       "      <th>Name</th>\n",
       "      <th>Sex</th>\n",
       "      <th>Age</th>\n",
       "      <th>SibSp</th>\n",
       "      <th>Parch</th>\n",
       "      <th>Ticket</th>\n",
       "      <th>Fare</th>\n",
       "      <th>Cabin</th>\n",
       "      <th>Embarked</th>\n",
       "    </tr>\n",
       "  </thead>\n",
       "  <tbody>\n",
       "    <tr>\n",
       "      <th>0</th>\n",
       "      <td>1</td>\n",
       "      <td>0</td>\n",
       "      <td>3</td>\n",
       "      <td>Braund, Mr. Owen Harris</td>\n",
       "      <td>male</td>\n",
       "      <td>22.0</td>\n",
       "      <td>1</td>\n",
       "      <td>0</td>\n",
       "      <td>A/5 21171</td>\n",
       "      <td>7.2500</td>\n",
       "      <td>NaN</td>\n",
       "      <td>S</td>\n",
       "    </tr>\n",
       "    <tr>\n",
       "      <th>1</th>\n",
       "      <td>2</td>\n",
       "      <td>1</td>\n",
       "      <td>1</td>\n",
       "      <td>Cumings, Mrs. John Bradley (Florence Briggs Th...</td>\n",
       "      <td>female</td>\n",
       "      <td>38.0</td>\n",
       "      <td>1</td>\n",
       "      <td>0</td>\n",
       "      <td>PC 17599</td>\n",
       "      <td>71.2833</td>\n",
       "      <td>C85</td>\n",
       "      <td>C</td>\n",
       "    </tr>\n",
       "    <tr>\n",
       "      <th>2</th>\n",
       "      <td>3</td>\n",
       "      <td>1</td>\n",
       "      <td>3</td>\n",
       "      <td>Heikkinen, Miss. Laina</td>\n",
       "      <td>female</td>\n",
       "      <td>26.0</td>\n",
       "      <td>0</td>\n",
       "      <td>0</td>\n",
       "      <td>STON/O2. 3101282</td>\n",
       "      <td>7.9250</td>\n",
       "      <td>NaN</td>\n",
       "      <td>S</td>\n",
       "    </tr>\n",
       "    <tr>\n",
       "      <th>3</th>\n",
       "      <td>4</td>\n",
       "      <td>1</td>\n",
       "      <td>1</td>\n",
       "      <td>Futrelle, Mrs. Jacques Heath (Lily May Peel)</td>\n",
       "      <td>female</td>\n",
       "      <td>35.0</td>\n",
       "      <td>1</td>\n",
       "      <td>0</td>\n",
       "      <td>113803</td>\n",
       "      <td>53.1000</td>\n",
       "      <td>C123</td>\n",
       "      <td>S</td>\n",
       "    </tr>\n",
       "    <tr>\n",
       "      <th>4</th>\n",
       "      <td>5</td>\n",
       "      <td>0</td>\n",
       "      <td>3</td>\n",
       "      <td>Allen, Mr. William Henry</td>\n",
       "      <td>male</td>\n",
       "      <td>35.0</td>\n",
       "      <td>0</td>\n",
       "      <td>0</td>\n",
       "      <td>373450</td>\n",
       "      <td>8.0500</td>\n",
       "      <td>NaN</td>\n",
       "      <td>S</td>\n",
       "    </tr>\n",
       "  </tbody>\n",
       "</table>\n",
       "</div>"
      ],
      "text/plain": [
       "   PassengerId  Survived  Pclass  \\\n",
       "0            1         0       3   \n",
       "1            2         1       1   \n",
       "2            3         1       3   \n",
       "3            4         1       1   \n",
       "4            5         0       3   \n",
       "\n",
       "                                                Name     Sex   Age  SibSp  \\\n",
       "0                            Braund, Mr. Owen Harris    male  22.0      1   \n",
       "1  Cumings, Mrs. John Bradley (Florence Briggs Th...  female  38.0      1   \n",
       "2                             Heikkinen, Miss. Laina  female  26.0      0   \n",
       "3       Futrelle, Mrs. Jacques Heath (Lily May Peel)  female  35.0      1   \n",
       "4                           Allen, Mr. William Henry    male  35.0      0   \n",
       "\n",
       "   Parch            Ticket     Fare Cabin Embarked  \n",
       "0      0         A/5 21171   7.2500   NaN        S  \n",
       "1      0          PC 17599  71.2833   C85        C  \n",
       "2      0  STON/O2. 3101282   7.9250   NaN        S  \n",
       "3      0            113803  53.1000  C123        S  \n",
       "4      0            373450   8.0500   NaN        S  "
      ]
     },
     "execution_count": 3,
     "metadata": {},
     "output_type": "execute_result"
    }
   ],
   "source": [
    "#importamos el archivo\n",
    "import pandas as pd\n",
    "df= pd.read_csv('titanic.csv')\n",
    "df.head()"
   ]
  },
  {
   "cell_type": "code",
   "execution_count": 20,
   "id": "a5ac71a1-92e2-4fc4-ae47-d12c76c70120",
   "metadata": {},
   "outputs": [
    {
     "data": {
      "text/plain": [
       "Survived\n",
       "Fallecidos        30.626179\n",
       "Supervivientes    28.343690\n",
       "Name: Age, dtype: float64"
      ]
     },
     "execution_count": 20,
     "metadata": {},
     "output_type": "execute_result"
    }
   ],
   "source": [
    "prom =df.groupby('Survived')['Age'].mean()\n",
    "prom = prom.rename (index={0:'Fallecidos',1:'Supervivientes'})\n",
    "prom"
   ]
  },
  {
   "cell_type": "markdown",
   "id": "3b23c4ff-849e-41df-83fc-8707dd13ecf2",
   "metadata": {},
   "source": [
    "### 2: Edad máxima, edad mínima, de los que sobrevivieron y los que no "
   ]
  },
  {
   "cell_type": "code",
   "execution_count": 41,
   "id": "e7e14cff-c885-4c6a-a60d-c57bb556bf86",
   "metadata": {},
   "outputs": [
    {
     "data": {
      "text/html": [
       "<div>\n",
       "<style scoped>\n",
       "    .dataframe tbody tr th:only-of-type {\n",
       "        vertical-align: middle;\n",
       "    }\n",
       "\n",
       "    .dataframe tbody tr th {\n",
       "        vertical-align: top;\n",
       "    }\n",
       "\n",
       "    .dataframe thead th {\n",
       "        text-align: right;\n",
       "    }\n",
       "</style>\n",
       "<table border=\"1\" class=\"dataframe\">\n",
       "  <thead>\n",
       "    <tr style=\"text-align: right;\">\n",
       "      <th>Survived</th>\n",
       "      <th>Fallecidos</th>\n",
       "      <th>Supervivientes</th>\n",
       "    </tr>\n",
       "  </thead>\n",
       "  <tbody>\n",
       "    <tr>\n",
       "      <th>Edad mínima</th>\n",
       "      <td>1.0</td>\n",
       "      <td>0.42</td>\n",
       "    </tr>\n",
       "    <tr>\n",
       "      <th>Edad máxima</th>\n",
       "      <td>74.0</td>\n",
       "      <td>80.00</td>\n",
       "    </tr>\n",
       "  </tbody>\n",
       "</table>\n",
       "</div>"
      ],
      "text/plain": [
       "Survived     Fallecidos  Supervivientes\n",
       "Edad mínima         1.0            0.42\n",
       "Edad máxima        74.0           80.00"
      ]
     },
     "execution_count": 41,
     "metadata": {},
     "output_type": "execute_result"
    }
   ],
   "source": [
    "min=df.groupby('Survived')['Age'].min()\n",
    "max=df.groupby('Survived')['Age'].max()\n",
    "dtf=pd.DataFrame([min,max], index=[\"Edad mínima\", \"Edad máxima\"])\n",
    "dtf = dtf.rename(columns={0: \"Fallecidos\", 1: \"Supervivientes\"})\n",
    "dtf"
   ]
  },
  {
   "cell_type": "markdown",
   "id": "e9b17589-f51a-4bc4-bf3b-e511f0d05566",
   "metadata": {},
   "source": [
    "### 3: Edad promedio por clase de los que sobrevivieron y los que no"
   ]
  },
  {
   "cell_type": "code",
   "execution_count": 58,
   "id": "d23d7d63-2c71-4427-9dd1-3a62562da4a6",
   "metadata": {},
   "outputs": [
    {
     "data": {
      "text/html": [
       "<div>\n",
       "<style scoped>\n",
       "    .dataframe tbody tr th:only-of-type {\n",
       "        vertical-align: middle;\n",
       "    }\n",
       "\n",
       "    .dataframe tbody tr th {\n",
       "        vertical-align: top;\n",
       "    }\n",
       "\n",
       "    .dataframe thead th {\n",
       "        text-align: right;\n",
       "    }\n",
       "</style>\n",
       "<table border=\"1\" class=\"dataframe\">\n",
       "  <thead>\n",
       "    <tr style=\"text-align: right;\">\n",
       "      <th></th>\n",
       "      <th></th>\n",
       "      <th>Age</th>\n",
       "    </tr>\n",
       "    <tr>\n",
       "      <th>Pclass</th>\n",
       "      <th>Survived</th>\n",
       "      <th></th>\n",
       "    </tr>\n",
       "  </thead>\n",
       "  <tbody>\n",
       "    <tr>\n",
       "      <th rowspan=\"2\" valign=\"top\">1</th>\n",
       "      <th>Fallecidos</th>\n",
       "      <td>43.695312</td>\n",
       "    </tr>\n",
       "    <tr>\n",
       "      <th>Supervivientes</th>\n",
       "      <td>35.368197</td>\n",
       "    </tr>\n",
       "    <tr>\n",
       "      <th rowspan=\"2\" valign=\"top\">2</th>\n",
       "      <th>Fallecidos</th>\n",
       "      <td>33.544444</td>\n",
       "    </tr>\n",
       "    <tr>\n",
       "      <th>Supervivientes</th>\n",
       "      <td>25.901566</td>\n",
       "    </tr>\n",
       "    <tr>\n",
       "      <th rowspan=\"2\" valign=\"top\">3</th>\n",
       "      <th>Fallecidos</th>\n",
       "      <td>26.555556</td>\n",
       "    </tr>\n",
       "    <tr>\n",
       "      <th>Supervivientes</th>\n",
       "      <td>20.646118</td>\n",
       "    </tr>\n",
       "  </tbody>\n",
       "</table>\n",
       "</div>"
      ],
      "text/plain": [
       "                             Age\n",
       "Pclass Survived                 \n",
       "1      Fallecidos      43.695312\n",
       "       Supervivientes  35.368197\n",
       "2      Fallecidos      33.544444\n",
       "       Supervivientes  25.901566\n",
       "3      Fallecidos      26.555556\n",
       "       Supervivientes  20.646118"
      ]
     },
     "execution_count": 58,
     "metadata": {},
     "output_type": "execute_result"
    }
   ],
   "source": [
    "prom_class = df[['Pclass','Survived','Age']].groupby(['Pclass','Survived']).mean()\n",
    "prom_class = prom_class.rename(index={0: \"Fallecidos\", 1: \"Supervivientes\"},level='Survived')\n",
    "prom_class"
   ]
  },
  {
   "cell_type": "markdown",
   "id": "af586236-4248-4f54-b24e-0cacbe821898",
   "metadata": {},
   "source": [
    "# Ejercicio 2"
   ]
  },
  {
   "cell_type": "markdown",
   "id": "8f9ffd5e-1991-49fe-810d-a2952ff7fc8e",
   "metadata": {},
   "source": [
    "### 1: Del dataframe del titanic, calcular el promedio de edad de los que sobrevivieron y los que no, hacer un gráfico de barras que sea representativo. \n"
   ]
  },
  {
   "cell_type": "code",
   "execution_count": 67,
   "id": "d4a90159-11ea-4ba0-b95b-798a88b884cb",
   "metadata": {},
   "outputs": [
    {
     "data": {
      "text/plain": [
       "<Axes: xlabel='Survived'>"
      ]
     },
     "execution_count": 67,
     "metadata": {},
     "output_type": "execute_result"
    },
    {
     "data": {
      "image/png": "[encoded data removed]",
      "text/plain": [
       "<Figure size 640x480 with 1 Axes>"
      ]
     },
     "metadata": {},
     "output_type": "display_data"
    }
   ],
   "source": [
    "prom.plot.bar()"
   ]
  },
  {
   "cell_type": "markdown",
   "id": "75d01518-4b70-4a57-b236-b11cb026a4fc",
   "metadata": {},
   "source": [
    "### 2: Hacer un gráfico del tipo histograma que represente la frecuencia de edades únicamente de las  mujeres que sobrevivieron. "
   ]
  },
  {
   "cell_type": "code",
   "execution_count": 98,
   "id": "563c77e6-db70-4bfd-8223-81b300b09512",
   "metadata": {},
   "outputs": [
    {
     "name": "stdout",
     "output_type": "stream",
     "text": [
      "1      38.0\n",
      "2      26.0\n",
      "3      35.0\n",
      "8      27.0\n",
      "9      14.0\n",
      "       ... \n",
      "874    28.0\n",
      "875    15.0\n",
      "879    56.0\n",
      "880    25.0\n",
      "887    19.0\n",
      "Name: Age, Length: 233, dtype: float64\n"
     ]
    },
    {
     "data": {
      "image/png": "[encoded data removed]",
      "text/plain": [
       "<Figure size 640x480 with 1 Axes>"
      ]
     },
     "metadata": {},
     "output_type": "display_data"
    }
   ],
   "source": [
    "filtro = df[(df['Sex']=='female')&(df['Survived']==1)]\n",
    "filtro\n",
    "frecuencia = filtro['Age']\n",
    "print(frecuencia)\n",
    "hist = frecuencia.plot.hist(title ='Edades de mujeres que sobrevivieron')"
   ]
  },
  {
   "cell_type": "code",
   "execution_count": 97,
   "id": "0e0d8554-89f3-4649-9a8c-cd8ce7497b7d",
   "metadata": {},
   "outputs": [
    {
     "name": "stdout",
     "output_type": "stream",
     "text": [
      "Age\n",
      "24.00    14\n",
      "22.00    10\n",
      "30.00     9\n",
      "35.00     8\n",
      "18.00     8\n",
      "36.00     7\n",
      "19.00     7\n",
      "33.00     6\n",
      "29.00     5\n",
      "27.00     5\n",
      "31.00     5\n",
      "40.00     5\n",
      "16.00     5\n",
      "17.00     5\n",
      "4.00      5\n",
      "28.00     5\n",
      "50.00     4\n",
      "5.00      4\n",
      "38.00     4\n",
      "15.00     4\n",
      "23.00     4\n",
      "34.00     4\n",
      "21.00     4\n",
      "39.00     4\n",
      "45.00     3\n",
      "54.00     3\n",
      "48.00     3\n",
      "14.00     3\n",
      "26.00     3\n",
      "58.00     3\n",
      "42.00     3\n",
      "2.00      2\n",
      "0.75      2\n",
      "63.00     2\n",
      "49.00     2\n",
      "41.00     2\n",
      "44.00     2\n",
      "1.00      2\n",
      "32.00     2\n",
      "52.00     2\n",
      "25.00     2\n",
      "13.00     2\n",
      "3.00      1\n",
      "32.50     1\n",
      "55.00     1\n",
      "60.00     1\n",
      "8.00      1\n",
      "53.00     1\n",
      "7.00      1\n",
      "6.00      1\n",
      "51.00     1\n",
      "43.00     1\n",
      "62.00     1\n",
      "47.00     1\n",
      "56.00     1\n",
      "Name: count, dtype: int64\n"
     ]
    },
    {
     "data": {
      "image/png": "[encoded data removed]",
      "text/plain": [
       "<Figure size 640x480 with 1 Axes>"
      ]
     },
     "metadata": {},
     "output_type": "display_data"
    }
   ],
   "source": [
    "frecuencias = filtro['Age'].value_counts()\n",
    "hist = frecuencias.plot.hist(title ='Edades de mujeres sobrevivientes')\n",
    "print(frecuencias)"
   ]
  },
  {
   "cell_type": "markdown",
   "id": "4da93666-837b-46aa-b557-4ee8d94b7546",
   "metadata": {},
   "source": [
    "### El grafico anterior es simplemente para probar"
   ]
  },
  {
   "cell_type": "markdown",
   "id": "da70e04e-eb89-4f71-8363-cabd37a4ef4e",
   "metadata": {},
   "source": [
    "# Ejercicio 3: Con GoldPrice.CSV\n",
    "### 1: Crar una nueva columna que solo contenga el año, llamarla 'Year'"
   ]
  },
  {
   "cell_type": "code",
   "execution_count": 104,
   "id": "da7bfc13-7e01-4129-a814-0884a8eb0ecb",
   "metadata": {},
   "outputs": [
    {
     "data": {
      "text/html": [
       "<div>\n",
       "<style scoped>\n",
       "    .dataframe tbody tr th:only-of-type {\n",
       "        vertical-align: middle;\n",
       "    }\n",
       "\n",
       "    .dataframe tbody tr th {\n",
       "        vertical-align: top;\n",
       "    }\n",
       "\n",
       "    .dataframe thead th {\n",
       "        text-align: right;\n",
       "    }\n",
       "</style>\n",
       "<table border=\"1\" class=\"dataframe\">\n",
       "  <thead>\n",
       "    <tr style=\"text-align: right;\">\n",
       "      <th></th>\n",
       "      <th>Date</th>\n",
       "      <th>Price</th>\n",
       "      <th>Open</th>\n",
       "      <th>High</th>\n",
       "      <th>Low</th>\n",
       "    </tr>\n",
       "  </thead>\n",
       "  <tbody>\n",
       "    <tr>\n",
       "      <th>0</th>\n",
       "      <td>Aug 01, 2018</td>\n",
       "      <td>1216.6</td>\n",
       "      <td>1223.40</td>\n",
       "      <td>1223.4</td>\n",
       "      <td>1216.20</td>\n",
       "    </tr>\n",
       "    <tr>\n",
       "      <th>1</th>\n",
       "      <td>Jul 31, 2018</td>\n",
       "      <td>1223.7</td>\n",
       "      <td>1220.40</td>\n",
       "      <td>1228.1</td>\n",
       "      <td>1213.00</td>\n",
       "    </tr>\n",
       "    <tr>\n",
       "      <th>2</th>\n",
       "      <td>Jul 30, 2018</td>\n",
       "      <td>1221.3</td>\n",
       "      <td>1222.50</td>\n",
       "      <td>1223.9</td>\n",
       "      <td>1218.10</td>\n",
       "    </tr>\n",
       "    <tr>\n",
       "      <th>3</th>\n",
       "      <td>Jul 27, 2018</td>\n",
       "      <td>1222.2</td>\n",
       "      <td>1223.50</td>\n",
       "      <td>1226.8</td>\n",
       "      <td>1216.70</td>\n",
       "    </tr>\n",
       "    <tr>\n",
       "      <th>4</th>\n",
       "      <td>Jul 26, 2018</td>\n",
       "      <td>1225.3</td>\n",
       "      <td>1227.80</td>\n",
       "      <td>1227.8</td>\n",
       "      <td>1227.80</td>\n",
       "    </tr>\n",
       "    <tr>\n",
       "      <th>...</th>\n",
       "      <td>...</td>\n",
       "      <td>...</td>\n",
       "      <td>...</td>\n",
       "      <td>...</td>\n",
       "      <td>...</td>\n",
       "    </tr>\n",
       "    <tr>\n",
       "      <th>9766</th>\n",
       "      <td>Jan 03, 1980</td>\n",
       "      <td>625.0</td>\n",
       "      <td>627.00</td>\n",
       "      <td>640.0</td>\n",
       "      <td>603.00</td>\n",
       "    </tr>\n",
       "    <tr>\n",
       "      <th>9767</th>\n",
       "      <td>Jan 02, 1980</td>\n",
       "      <td>575.5</td>\n",
       "      <td>562.50</td>\n",
       "      <td>577.0</td>\n",
       "      <td>558.00</td>\n",
       "    </tr>\n",
       "    <tr>\n",
       "      <th>9768</th>\n",
       "      <td>Dec 31, 1979</td>\n",
       "      <td>533.6</td>\n",
       "      <td>527.88</td>\n",
       "      <td>534.5</td>\n",
       "      <td>527.88</td>\n",
       "    </tr>\n",
       "    <tr>\n",
       "      <th>9769</th>\n",
       "      <td>Dec 28, 1979</td>\n",
       "      <td>517.8</td>\n",
       "      <td>516.00</td>\n",
       "      <td>517.8</td>\n",
       "      <td>510.40</td>\n",
       "    </tr>\n",
       "    <tr>\n",
       "      <th>9770</th>\n",
       "      <td>Dec 27, 1979</td>\n",
       "      <td>515.5</td>\n",
       "      <td>517.00</td>\n",
       "      <td>517.0</td>\n",
       "      <td>513.00</td>\n",
       "    </tr>\n",
       "  </tbody>\n",
       "</table>\n",
       "<p>9771 rows × 5 columns</p>\n",
       "</div>"
      ],
      "text/plain": [
       "              Date   Price     Open    High      Low\n",
       "0     Aug 01, 2018  1216.6  1223.40  1223.4  1216.20\n",
       "1     Jul 31, 2018  1223.7  1220.40  1228.1  1213.00\n",
       "2     Jul 30, 2018  1221.3  1222.50  1223.9  1218.10\n",
       "3     Jul 27, 2018  1222.2  1223.50  1226.8  1216.70\n",
       "4     Jul 26, 2018  1225.3  1227.80  1227.8  1227.80\n",
       "...            ...     ...      ...     ...      ...\n",
       "9766  Jan 03, 1980   625.0   627.00   640.0   603.00\n",
       "9767  Jan 02, 1980   575.5   562.50   577.0   558.00\n",
       "9768  Dec 31, 1979   533.6   527.88   534.5   527.88\n",
       "9769  Dec 28, 1979   517.8   516.00   517.8   510.40\n",
       "9770  Dec 27, 1979   515.5   517.00   517.0   513.00\n",
       "\n",
       "[9771 rows x 5 columns]"
      ]
     },
     "execution_count": 104,
     "metadata": {},
     "output_type": "execute_result"
    }
   ],
   "source": [
    "gold = pd.read_csv('goldprice.csv')\n",
    "gold"
   ]
  },
  {
   "cell_type": "code",
   "execution_count": 119,
   "id": "547f83c6-ee9c-4955-b328-cba919877751",
   "metadata": {},
   "outputs": [
    {
     "data": {
      "text/html": [
       "<div>\n",
       "<style scoped>\n",
       "    .dataframe tbody tr th:only-of-type {\n",
       "        vertical-align: middle;\n",
       "    }\n",
       "\n",
       "    .dataframe tbody tr th {\n",
       "        vertical-align: top;\n",
       "    }\n",
       "\n",
       "    .dataframe thead th {\n",
       "        text-align: right;\n",
       "    }\n",
       "</style>\n",
       "<table border=\"1\" class=\"dataframe\">\n",
       "  <thead>\n",
       "    <tr style=\"text-align: right;\">\n",
       "      <th></th>\n",
       "      <th>Date</th>\n",
       "      <th>Price</th>\n",
       "      <th>Open</th>\n",
       "      <th>High</th>\n",
       "      <th>Low</th>\n",
       "      <th>Year</th>\n",
       "    </tr>\n",
       "  </thead>\n",
       "  <tbody>\n",
       "    <tr>\n",
       "      <th>0</th>\n",
       "      <td>Aug 01, 2018</td>\n",
       "      <td>1216.6</td>\n",
       "      <td>1223.40</td>\n",
       "      <td>1223.4</td>\n",
       "      <td>1216.20</td>\n",
       "      <td>2018</td>\n",
       "    </tr>\n",
       "    <tr>\n",
       "      <th>1</th>\n",
       "      <td>Jul 31, 2018</td>\n",
       "      <td>1223.7</td>\n",
       "      <td>1220.40</td>\n",
       "      <td>1228.1</td>\n",
       "      <td>1213.00</td>\n",
       "      <td>2018</td>\n",
       "    </tr>\n",
       "    <tr>\n",
       "      <th>2</th>\n",
       "      <td>Jul 30, 2018</td>\n",
       "      <td>1221.3</td>\n",
       "      <td>1222.50</td>\n",
       "      <td>1223.9</td>\n",
       "      <td>1218.10</td>\n",
       "      <td>2018</td>\n",
       "    </tr>\n",
       "    <tr>\n",
       "      <th>3</th>\n",
       "      <td>Jul 27, 2018</td>\n",
       "      <td>1222.2</td>\n",
       "      <td>1223.50</td>\n",
       "      <td>1226.8</td>\n",
       "      <td>1216.70</td>\n",
       "      <td>2018</td>\n",
       "    </tr>\n",
       "    <tr>\n",
       "      <th>4</th>\n",
       "      <td>Jul 26, 2018</td>\n",
       "      <td>1225.3</td>\n",
       "      <td>1227.80</td>\n",
       "      <td>1227.8</td>\n",
       "      <td>1227.80</td>\n",
       "      <td>2018</td>\n",
       "    </tr>\n",
       "    <tr>\n",
       "      <th>...</th>\n",
       "      <td>...</td>\n",
       "      <td>...</td>\n",
       "      <td>...</td>\n",
       "      <td>...</td>\n",
       "      <td>...</td>\n",
       "      <td>...</td>\n",
       "    </tr>\n",
       "    <tr>\n",
       "      <th>9766</th>\n",
       "      <td>Jan 03, 1980</td>\n",
       "      <td>625.0</td>\n",
       "      <td>627.00</td>\n",
       "      <td>640.0</td>\n",
       "      <td>603.00</td>\n",
       "      <td>1980</td>\n",
       "    </tr>\n",
       "    <tr>\n",
       "      <th>9767</th>\n",
       "      <td>Jan 02, 1980</td>\n",
       "      <td>575.5</td>\n",
       "      <td>562.50</td>\n",
       "      <td>577.0</td>\n",
       "      <td>558.00</td>\n",
       "      <td>1980</td>\n",
       "    </tr>\n",
       "    <tr>\n",
       "      <th>9768</th>\n",
       "      <td>Dec 31, 1979</td>\n",
       "      <td>533.6</td>\n",
       "      <td>527.88</td>\n",
       "      <td>534.5</td>\n",
       "      <td>527.88</td>\n",
       "      <td>1979</td>\n",
       "    </tr>\n",
       "    <tr>\n",
       "      <th>9769</th>\n",
       "      <td>Dec 28, 1979</td>\n",
       "      <td>517.8</td>\n",
       "      <td>516.00</td>\n",
       "      <td>517.8</td>\n",
       "      <td>510.40</td>\n",
       "      <td>1979</td>\n",
       "    </tr>\n",
       "    <tr>\n",
       "      <th>9770</th>\n",
       "      <td>Dec 27, 1979</td>\n",
       "      <td>515.5</td>\n",
       "      <td>517.00</td>\n",
       "      <td>517.0</td>\n",
       "      <td>513.00</td>\n",
       "      <td>1979</td>\n",
       "    </tr>\n",
       "  </tbody>\n",
       "</table>\n",
       "<p>9771 rows × 6 columns</p>\n",
       "</div>"
      ],
      "text/plain": [
       "              Date   Price     Open    High      Low   Year\n",
       "0     Aug 01, 2018  1216.6  1223.40  1223.4  1216.20   2018\n",
       "1     Jul 31, 2018  1223.7  1220.40  1228.1  1213.00   2018\n",
       "2     Jul 30, 2018  1221.3  1222.50  1223.9  1218.10   2018\n",
       "3     Jul 27, 2018  1222.2  1223.50  1226.8  1216.70   2018\n",
       "4     Jul 26, 2018  1225.3  1227.80  1227.8  1227.80   2018\n",
       "...            ...     ...      ...     ...      ...    ...\n",
       "9766  Jan 03, 1980   625.0   627.00   640.0   603.00   1980\n",
       "9767  Jan 02, 1980   575.5   562.50   577.0   558.00   1980\n",
       "9768  Dec 31, 1979   533.6   527.88   534.5   527.88   1979\n",
       "9769  Dec 28, 1979   517.8   516.00   517.8   510.40   1979\n",
       "9770  Dec 27, 1979   515.5   517.00   517.0   513.00   1979\n",
       "\n",
       "[9771 rows x 6 columns]"
      ]
     },
     "execution_count": 119,
     "metadata": {},
     "output_type": "execute_result"
    }
   ],
   "source": [
    "gold2 = gold.copy() #Prefiero no modificar el CSV original\n",
    "gold2['Year']=gold2['Date'].str[7:] #Es mejorable\n",
    "gold2"
   ]
  },
  {
   "cell_type": "code",
   "execution_count": 128,
   "id": "8148751f-93ee-444a-ba0a-420a86c25255",
   "metadata": {},
   "outputs": [
    {
     "data": {
      "text/plain": [
       "0       2018\n",
       "1       2018\n",
       "2       2018\n",
       "3       2018\n",
       "4       2018\n",
       "        ... \n",
       "9766    1980\n",
       "9767    1980\n",
       "9768    1979\n",
       "9769    1979\n",
       "9770    1979\n",
       "Name: Date, Length: 9771, dtype: object"
      ]
     },
     "execution_count": 128,
     "metadata": {},
     "output_type": "execute_result"
    }
   ],
   "source": [
    "gold2['Date'].str[-4:]\n",
    "# Esta es otra forma de ir por los ultimos elementos (se me ocurrio ahora)"
   ]
  },
  {
   "cell_type": "markdown",
   "id": "25355768-a7e6-4b11-81f6-edf579ba0c2c",
   "metadata": {},
   "source": [
    "### 2: Determinar le promedio de precios del oro por año"
   ]
  },
  {
   "cell_type": "code",
   "execution_count": 139,
   "id": "b282e385-58ed-4f69-a1d1-335469cbb29d",
   "metadata": {},
   "outputs": [
    {
     "data": {
      "text/plain": [
       "Year\n",
       "1979     522.300000\n",
       "1980     611.959921\n",
       "1981     458.490514\n",
       "1982     375.563745\n",
       "1983     423.452964\n",
       "1984     360.656522\n",
       "1985     317.517460\n",
       "1986     368.330677\n",
       "1987     447.056522\n",
       "1988     437.059524\n",
       "1989     382.072222\n",
       "1990     383.798016\n",
       "1991     362.462698\n",
       "1992     343.773333\n",
       "1993     360.171260\n",
       "1994     384.077689\n",
       "1995     384.484585\n",
       "1996     387.891304\n",
       "1997     331.435317\n",
       "1998     294.214343\n",
       "1999     278.890000\n",
       "2000     278.885141\n",
       "2001     271.068826\n",
       "2002     310.479032\n",
       "2003     363.620884\n",
       "2004     409.579839\n",
       "2005     445.112749\n",
       "2006     603.977381\n",
       "2007     697.005159\n",
       "2008     870.982609\n",
       "2009     974.149206\n",
       "2010    1227.501984\n",
       "2011    1572.135714\n",
       "2012    1669.157143\n",
       "2013    1407.275781\n",
       "2014    1265.730534\n",
       "2015    1160.310227\n",
       "2016    1248.176604\n",
       "2017    1257.635303\n",
       "2018    1305.352258\n",
       "Name: Price, dtype: float64"
      ]
     },
     "execution_count": 139,
     "metadata": {},
     "output_type": "execute_result"
    }
   ],
   "source": [
    "g_prom=gold2.groupby('Year')['Price'].mean()\n",
    "g_prom"
   ]
  },
  {
   "cell_type": "markdown",
   "id": "b4ad9531-5963-4012-a7b0-ea73ce5eabb8",
   "metadata": {},
   "source": [
    "### 3: Graficar el promedio del valor del oro por año con un grafico de barras"
   ]
  },
  {
   "cell_type": "code",
   "execution_count": 134,
   "id": "1265392a-b5e2-4f55-b3ee-abd92ffd6332",
   "metadata": {},
   "outputs": [
    {
     "data": {
      "text/plain": [
       "<Axes: xlabel='Year'>"
      ]
     },
     "execution_count": 134,
     "metadata": {},
     "output_type": "execute_result"
    },
    {
     "data": {
      "image/png": "[encoded data removed]",
      "text/plain": [
       "<Figure size 640x480 with 1 Axes>"
      ]
     },
     "metadata": {},
     "output_type": "display_data"
    }
   ],
   "source": [
    "g_prom.plot.bar()"
   ]
  },
  {
   "cell_type": "markdown",
   "id": "f4ce1fa3-2a54-4329-8077-756169a2f6a9",
   "metadata": {},
   "source": [
    "### Calcular el año con mayor promedio y el año con menor promedio"
   ]
  },
  {
   "cell_type": "code",
   "execution_count": 147,
   "id": "ea6dde53-94d3-49d9-a9ad-12bbb94b5bf1",
   "metadata": {},
   "outputs": [
    {
     "name": "stdout",
     "output_type": "stream",
     "text": [
      "El año  2001 tuvo un precio promedio de 271.0688259109312 el más bajo historico\n",
      "El año  2012 tuvo un precio promedio de 1669.1571428571428 el más alto historico\n"
     ]
    }
   ],
   "source": [
    "indx_min = g_prom.idxmin()\n",
    "val_min = g_prom.min()\n",
    "indx_max= g_prom.idxmax()\n",
    "val_max= g_prom.max()\n",
    "print(f'El año {indx_min} tuvo un precio promedio de {val_min} el más bajo historico')\n",
    "print(f'El año {indx_max} tuvo un precio promedio de {val_max} el más alto historico')\n"
   ]
  },
  {
   "cell_type": "code",
   "execution_count": null,
   "id": "b94395fa-7b52-4bce-b144-92b38eda6ea3",
   "metadata": {},
   "outputs": [],
   "source": []
  }
 ],
 "metadata": {
  "kernelspec": {
   "display_name": "Python 3 (ipykernel)",
   "language": "python",
   "name": "python3"
  },
  "language_info": {
   "codemirror_mode": {
    "name": "ipython",
    "version": 3
   },
   "file_extension": ".py",
   "mimetype": "text/x-python",
   "name": "python",
   "nbconvert_exporter": "python",
   "pygments_lexer": "ipython3",
   "version": "3.13.5"
  }
 },
 "nbformat": 4,
 "nbformat_minor": 5
}
